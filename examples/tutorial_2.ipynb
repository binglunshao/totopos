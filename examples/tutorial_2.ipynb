{
 "cells": [
  {
   "cell_type": "markdown",
   "metadata": {},
   "source": [
    "### preprocessing"
   ]
  },
  {
   "cell_type": "code",
   "execution_count": null,
   "metadata": {},
   "outputs": [],
   "source": [
    "%cd /home/binglun/totopos_testing/data "
   ]
  },
  {
   "cell_type": "code",
   "execution_count": 2,
   "metadata": {},
   "outputs": [],
   "source": [
    "%cd /home/binglun/totopos_testing/data \n",
    "%load_ext autoreload\n",
    "%autoreload 2 \n",
    "import numpy as np\n",
    "import anndata as ad\n",
    "import sc\n",
    "from plotly import express as px\n",
    "from ripser import ripser\n",
    "from persim import plot_diagrams"
   ]
  },
  {
   "cell_type": "code",
   "execution_count": null,
   "metadata": {},
   "outputs": [],
   "source": [
    "adata = ad.read_h5ad('E8.5b.h5ad')\n",
    "adata"
   ]
  },
  {
   "cell_type": "code",
   "execution_count": null,
   "metadata": {},
   "outputs": [],
   "source": [
    "import mygene\n",
    "\n",
    "mg = mygene.MyGeneInfo()\n",
    "ensembl_ids = adata.var['features'].tolist()\n",
    "result = mg.querymany(ensembl_ids, scopes='ensembl.gene', fields='symbol', species='mouse')\n",
    "id_to_symbol = {entry['query']: entry.get('symbol', None) for entry in result}\n",
    "adata.var['gene_name'] = adata.var['features'].map(id_to_symbol)"
   ]
  },
  {
   "cell_type": "code",
   "execution_count": 9,
   "metadata": {},
   "outputs": [],
   "source": [
    "adata.raw.var.rename(columns={'_index': 'index_backup'}, inplace=True)"
   ]
  },
  {
   "cell_type": "code",
   "execution_count": 10,
   "metadata": {},
   "outputs": [],
   "source": [
    "adata.write_h5ad('E8.5b.h5ad', compression='gzip')"
   ]
  },
  {
   "cell_type": "code",
   "execution_count": null,
   "metadata": {},
   "outputs": [],
   "source": [
    "mt_ribo_filt = True\n",
    "if mt_ribo_filt:\n",
    "    #try human \n",
    "    if adata.var[\"gene_name\"].str.contains(\"MT-\").any():\n",
    "        print(\"Detected human gene name format for mitochondrial genes.\")\n",
    "        a = sc.get_count_stats(adata, mt_prefix=\"MT-\", \n",
    "                               ribo_prefix = (\"RPS\", \"RPL\"))\n",
    "    #try mouse \n",
    "    elif adata.var[\"gene_name\"].str.contains(\"mt-\").any(): \n",
    "        print(\"Detected mouse gene name format for mitochondrial genes.\")\n",
    "        a = sc.get_count_stats(adata, mt_prefix=\"mt-\", \n",
    "                               ribo_prefix = (\"Rps\", \"Rpl\"))\n",
    "    else: #TO-DO allow for arbitrary prefixes\n",
    "        print(\"Could not calculate mitochondrial and \\\n",
    "              ribosomal gene content.\")\n",
    "        mt_ribo_filt = False\n",
    "else:\n",
    "    a = sc.get_count_stats(adata)"
   ]
  },
  {
   "cell_type": "code",
   "execution_count": 12,
   "metadata": {},
   "outputs": [],
   "source": [
    "adata.obs['n_counts'] = np.asarray(adata.X.sum(axis = 1))"
   ]
  },
  {
   "cell_type": "code",
   "execution_count": 14,
   "metadata": {},
   "outputs": [],
   "source": [
    "adata.obs['log_counts'] = np.log10(adata.obs.n_counts)"
   ]
  },
  {
   "cell_type": "code",
   "execution_count": 16,
   "metadata": {},
   "outputs": [],
   "source": [
    "adata.obs['n_genes'] = np.asarray((adata.X > 0).sum(axis = 1))"
   ]
  },
  {
   "cell_type": "code",
   "execution_count": 18,
   "metadata": {},
   "outputs": [],
   "source": [
    "mito_genes = adata.var['gene_name'].str.startswith('mt-')"
   ]
  },
  {
   "cell_type": "code",
   "execution_count": 30,
   "metadata": {},
   "outputs": [],
   "source": [
    "mito_inds = np.where(adata.var['gene_name'].str.startswith('mt-'))[0]"
   ]
  },
  {
   "cell_type": "code",
   "execution_count": 31,
   "metadata": {},
   "outputs": [],
   "source": [
    "adata.obs[\"frac_mito\"] = adata[:, mito_inds].X.toarray().sum(axis =1) / adata.obs.n_counts"
   ]
  },
  {
   "cell_type": "code",
   "execution_count": 33,
   "metadata": {},
   "outputs": [],
   "source": [
    "ribo_prefix = (\"Rps\", \"Rpl\")\n",
    "ribo_genes = np.zeros(adata.n_vars, dtype = bool)\n",
    "for prefix in ribo_prefix:\n",
    "    ribo_genes_tmp = adata.var['gene_name'].str.startswith(prefix)\n",
    "    ribo_genes +=ribo_genes_tmp"
   ]
  },
  {
   "cell_type": "code",
   "execution_count": 35,
   "metadata": {},
   "outputs": [],
   "source": [
    "ribo_inds = np.where(ribo_genes)[0]"
   ]
  },
  {
   "cell_type": "code",
   "execution_count": 36,
   "metadata": {},
   "outputs": [],
   "source": [
    "adata.obs[\"frac_ribo\"] = adata[:, ribo_inds].X.toarray().sum(axis =1) / adata.obs.n_counts"
   ]
  },
  {
   "cell_type": "code",
   "execution_count": 38,
   "metadata": {},
   "outputs": [],
   "source": [
    "adata.write_h5ad('E8.5b.h5ad', compression='gzip')"
   ]
  },
  {
   "cell_type": "code",
   "execution_count": null,
   "metadata": {},
   "outputs": [],
   "source": [
    "adata.obs['n_counts'].describe()"
   ]
  },
  {
   "cell_type": "code",
   "execution_count": 42,
   "metadata": {},
   "outputs": [],
   "source": [
    "a = adata"
   ]
  },
  {
   "cell_type": "code",
   "execution_count": null,
   "metadata": {},
   "outputs": [],
   "source": [
    "import scipy.sparse\n",
    "if scipy.sparse.issparse(a.X):\n",
    "    # Using getnnz counts the nonzero entries along the axis (axis=0 for genes)\n",
    "    gene_cell_counts = a.X.getnnz(axis=0)\n",
    "else:\n",
    "    gene_cell_counts = np.sum(a.X > 0, axis=0)\n",
    "\n",
    "min_cells = 10                         # Gene must be expressed in at least 10 cells\n",
    "max_cells = 0.9 * a.n_obs            # Gene expressed in >60% of cells is excluded\n",
    "genes_to_keep = (gene_cell_counts >= min_cells) & (gene_cell_counts <= max_cells)\n",
    "a = a[:, genes_to_keep]\n",
    "a"
   ]
  },
  {
   "cell_type": "code",
   "execution_count": null,
   "metadata": {},
   "outputs": [],
   "source": [
    "import scanpy\n",
    "scanpy.pl.violin(a, ['n_genes', 'n_counts', 'frac_mito', 'frac_ribo'],\n",
    "    jitter=0.4, multi_panel=True)"
   ]
  },
  {
   "cell_type": "code",
   "execution_count": null,
   "metadata": {},
   "outputs": [],
   "source": [
    "max_frac_mito = 0.2\n",
    "max_frac_ribo = 0.2\n",
    "\n",
    "filtered_cells = a[(a.obs['frac_mito'] > max_frac_mito) \n",
    "                   | (a.obs['frac_ribo'] > max_frac_ribo)]\n",
    "print(f\"Number of cells with max_frac_mito > {max_frac_mito} \\\n",
    "      or max_frac_ribo > {max_frac_ribo}: {filtered_cells.n_obs} \\n\")"
   ]
  },
  {
   "cell_type": "code",
   "execution_count": null,
   "metadata": {},
   "outputs": [],
   "source": [
    "a_ = a\n",
    "mito_ribo_filt = True\n",
    "if mito_ribo_filt: \n",
    "    try: \n",
    "        print(f\"Mean frac mitochondrial counts \\\n",
    "              {a_.obs.frac_mito.mean():.2f}, \\\n",
    "                ribosomal gene counts {a_.obs.frac_ribo.mean():.2f}\")        \n",
    "        a_ = a_[(a_.obs.frac_mito < max_frac_mito) & \\\n",
    "                (a_.obs.frac_ribo < max_frac_ribo)].copy()\n",
    "        print(f\"Filtered out cells with max.frac of mitochondrial \\\n",
    "              {max_frac_mito}  and {max_frac_ribo} of ribosomal counts.\")\n",
    "    except: \n",
    "        print(\"Could not perform filtering by ribo/mito content.\")\n",
    "\n",
    "print(f\"Number of cells after filtering: {a_.n_obs}\")"
   ]
  },
  {
   "cell_type": "code",
   "execution_count": 55,
   "metadata": {},
   "outputs": [],
   "source": [
    "try:\n",
    "    ada = sc.lognorm_cells(a_)\n",
    "except: \n",
    "    a_.X = a_.X.astype(np.float32)\n",
    "    ada = sc.lognorm_cells(a_)"
   ]
  },
  {
   "cell_type": "code",
   "execution_count": null,
   "metadata": {},
   "outputs": [],
   "source": [
    "adat = sc.cv_filter(ada, return_highly_variable = True)\n",
    "print(f\"Number of genes after filtering: {adat.n_vars}\")"
   ]
  },
  {
   "cell_type": "code",
   "execution_count": 62,
   "metadata": {},
   "outputs": [],
   "source": [
    "adat.write_h5ad('E8.5b_hvg.h5ad', compression='gzip')"
   ]
  },
  {
   "cell_type": "code",
   "execution_count": null,
   "metadata": {},
   "outputs": [],
   "source": [
    "adat"
   ]
  },
  {
   "cell_type": "markdown",
   "metadata": {},
   "source": [
    "### totopos"
   ]
  },
  {
   "cell_type": "code",
   "execution_count": null,
   "metadata": {},
   "outputs": [],
   "source": [
    "%load_ext autoreload\n",
    "%autoreload 2 \n",
    "import totopos.cells as tpc\n",
    "\n",
    "n_pcs = tpc.find_pca_cutoff(adat, thres=0.01)\n",
    "print(f'Number of PCs: {n_pcs}')"
   ]
  },
  {
   "cell_type": "code",
   "execution_count": null,
   "metadata": {},
   "outputs": [],
   "source": [
    "adat"
   ]
  },
  {
   "cell_type": "code",
   "execution_count": null,
   "metadata": {},
   "outputs": [],
   "source": [
    "outlier_mask, scores = tpc.detect_outliers(\n",
    "    adat, n_pcs=n_pcs, contamination=0.01, max_samples=100000, \n",
    "    n_jobs=8, n_estimators=200)\n",
    "\n",
    "adat.obs['if_outlier_mask'] = outlier_mask\n",
    "adat.obs['if_outlier_score'] = scores"
   ]
  },
  {
   "cell_type": "code",
   "execution_count": null,
   "metadata": {},
   "outputs": [],
   "source": [
    "tpc.plot_outliers(adat, outlier_mask, scores)"
   ]
  },
  {
   "cell_type": "code",
   "execution_count": null,
   "metadata": {},
   "outputs": [],
   "source": [
    "fig=px.scatter_3d(\n",
    "    adat.obs,\n",
    "    # x=\"UMAP_1\", y = \"UMAP_2\", z = \"UMAP_3\", \n",
    "    x=\"pc1\", y=\"pc2\", z=\"pc3\", \n",
    "    color = 'if_outlier_mask', \n",
    "    # hover_data=[\"cell_type\", 'E_day', 'author_cell_type'], \n",
    "    width=1000, height=800\n",
    ")\n",
    "fig.update_traces(marker=dict(size=1))"
   ]
  },
  {
   "cell_type": "code",
   "execution_count": 68,
   "metadata": {},
   "outputs": [],
   "source": [
    "adat.write_h5ad('E8.5b_hvg_outliers.h5ad', compression='gzip')"
   ]
  },
  {
   "cell_type": "markdown",
   "metadata": {},
   "source": [
    "### tpc"
   ]
  },
  {
   "cell_type": "code",
   "execution_count": 1,
   "metadata": {},
   "outputs": [
    {
     "name": "stdout",
     "output_type": "stream",
     "text": [
      "/home/binglun/totopos_testing/data\n"
     ]
    }
   ],
   "source": [
    "%cd /home/binglun/totopos_testing/data \n",
    "%load_ext autoreload\n",
    "%autoreload 2 \n",
    "import numpy as np\n",
    "import anndata as ad\n",
    "import pandas as pd\n",
    "import sc\n",
    "from plotly import express as px\n",
    "from ripser import ripser\n",
    "from persim import plot_diagrams"
   ]
  },
  {
   "cell_type": "code",
   "execution_count": 2,
   "metadata": {},
   "outputs": [
    {
     "data": {
      "text/plain": [
       "AnnData object with n_obs × n_vars = 153073 × 6588\n",
       "    obs: 'orig.ident', 'nCount_RNA', 'nFeature_RNA', 'sample', 'day', 'group', 'cell_state', 'cell_type', 'somite_stage', 'n_counts', 'log_counts', 'n_genes', 'frac_mito', 'frac_ribo', 'doublet_score', 'predicted_doublet', 'pc1', 'pc2', 'pc3', 'pc4', 'if_outlier_mask', 'if_outlier_score'\n",
       "    var: 'features', 'gene_name', 'mean', 'log_mean', 'var', 'cv', 'log_cv', 'highly_variable'\n",
       "    obsm: 'pcs'"
      ]
     },
     "execution_count": 2,
     "metadata": {},
     "output_type": "execute_result"
    }
   ],
   "source": [
    "adata = ad.read_h5ad('E8.5b_hvg_outliers.h5ad')\n",
    "adata"
   ]
  },
  {
   "cell_type": "code",
   "execution_count": 3,
   "metadata": {},
   "outputs": [],
   "source": [
    "ph = ripser(adata.obsm[\"pcs\"][:, :35], n_perm=1000, do_cocycles=True)"
   ]
  },
  {
   "cell_type": "code",
   "execution_count": 4,
   "metadata": {},
   "outputs": [
    {
     "name": "stdout",
     "output_type": "stream",
     "text": [
      "Starting VR graph construction.\n",
      "Finished VR graph. Starting loop discovery...\n"
     ]
    },
    {
     "name": "stderr",
     "output_type": "stream",
     "text": [
      "  0%|          | 0/3 [00:00<?, ?it/s]"
     ]
    },
    {
     "name": "stdout",
     "output_type": "stream",
     "text": [
      "Starting 1-th loop discovery...\n",
      "Finished computing loop 1 from VR graph.\n"
     ]
    },
    {
     "name": "stderr",
     "output_type": "stream",
     "text": [
      " 33%|███▎      | 1/3 [00:00<00:01,  1.41it/s]"
     ]
    },
    {
     "name": "stdout",
     "output_type": "stream",
     "text": [
      "Starting 2-th loop discovery...\n",
      "Finished computing loop 2 from VR graph.\n"
     ]
    },
    {
     "name": "stderr",
     "output_type": "stream",
     "text": [
      " 67%|██████▋   | 2/3 [00:01<00:00,  1.47it/s]"
     ]
    },
    {
     "name": "stdout",
     "output_type": "stream",
     "text": [
      "Starting 3-th loop discovery...\n",
      "Finished computing loop 3 from VR graph.\n"
     ]
    },
    {
     "name": "stderr",
     "output_type": "stream",
     "text": [
      "100%|██████████| 3/3 [00:02<00:00,  1.42it/s]"
     ]
    },
    {
     "name": "stdout",
     "output_type": "stream",
     "text": [
      "Finished critical edge algorithm.\n"
     ]
    },
    {
     "name": "stderr",
     "output_type": "stream",
     "text": [
      "\n"
     ]
    }
   ],
   "source": [
    "import totopos.cells as tpc\n",
    "topological_loops = tpc.critical_edge_method(adata.obsm[\"pcs\"][:, :35], ph, verbose=True, n_loops=3)"
   ]
  },
  {
   "cell_type": "markdown",
   "metadata": {},
   "source": [
    "#### plot loops/topocells"
   ]
  },
  {
   "cell_type": "code",
   "execution_count": null,
   "metadata": {},
   "outputs": [],
   "source": [
    "import totopos.viz.cloud as tpv\n",
    "tpv.quick_loop_summary(topological_loops)"
   ]
  },
  {
   "cell_type": "code",
   "execution_count": null,
   "metadata": {},
   "outputs": [],
   "source": [
    "fig = tpv.plot_loops(\n",
    "    adata=adata,\n",
    "    topological_loops=topological_loops,\n",
    "    title=\"Topological Loops in Single-Cell Data\",\n",
    "    pcs_viz=(1, 2, 3),  # Use PC1, PC2, PC3\n",
    "    # color_col='cell_type',  # Color by cell type\n",
    "    hover_cols=['cell_type', 'sample', 'day'],  # Show in hover\n",
    "    use_pca=True  # Use PCA coordinates from adata.obsm['pcs']\n",
    ")\n",
    "\n",
    "fig.show()"
   ]
  },
  {
   "cell_type": "code",
   "execution_count": null,
   "metadata": {},
   "outputs": [],
   "source": [
    "tpv.summarize_topocells(adata, topological_loops)"
   ]
  },
  {
   "cell_type": "code",
   "execution_count": null,
   "metadata": {},
   "outputs": [],
   "source": [
    "fig1 = tpv.plot_topocells_highlighted(\n",
    "    adata=adata,\n",
    "    topological_loops=topological_loops,\n",
    "    title=\"All Topocells Highlighted\",\n",
    "    # color_col='cell_type',  # Color topocells by cell type\n",
    "    hover_cols=['cell_type', 'sample', 'day'],\n",
    "    pcs_viz=(1, 2, 3),\n",
    "    dot_size_gray=1,  # Small gray dots\n",
    "    dot_size_topo=3,  # Larger colored dots\n",
    "    show_loops=True   # Also show connections\n",
    ")\n",
    "\n",
    "fig1.show()"
   ]
  },
  {
   "cell_type": "code",
   "execution_count": null,
   "metadata": {},
   "outputs": [],
   "source": [
    "fig2 = tpv.plot_single_loop_topocells(\n",
    "    adata=adata,\n",
    "    topological_loops=topological_loops,\n",
    "    loop_index=1,  # First loop\n",
    "    # color_col='somite_stage',\n",
    "    pcs_viz=(1, 2, 3),\n",
    "    hover_cols=['cell_type', 'somite_stage', 'day'],\n",
    "    show_loops=True\n",
    ")\n",
    "\n",
    "fig2.show()"
   ]
  },
  {
   "cell_type": "markdown",
   "metadata": {},
   "source": [
    "#### topogenes"
   ]
  },
  {
   "cell_type": "code",
   "execution_count": 5,
   "metadata": {},
   "outputs": [
    {
     "name": "stderr",
     "output_type": "stream",
     "text": [
      "/home/binglun/miniconda3/envs/totopos/lib/python3.13/site-packages/dreimac/emcoords.py:179: UserWarning: There are 17427 point not covered by a landmark\n",
      "  warnings.warn(\"There are {} point not covered by a landmark\".format(nzero))\n"
     ]
    }
   ],
   "source": [
    "import totopos.genes as tpg\n",
    "\n",
    "coords = tpg.get_circular_coords(\n",
    "    topological_loops,\n",
    "    loop_index=0,\n",
    "    n_dim=None,        # use all features of that loop\n",
    "    plot=False,         # if you want to see the persistence diagram\n",
    "    n_landmarks=1000,\n",
    "    prime=47,\n",
    "    cocycle_idx=0,\n",
    "    standard_range=False\n",
    ")"
   ]
  },
  {
   "cell_type": "code",
   "execution_count": 6,
   "metadata": {},
   "outputs": [],
   "source": [
    "scores, feat_order = tpg.topo_scores_rep_sampling(\n",
    "    adata,\n",
    "    topological_loops,\n",
    "    coords,\n",
    "    loop_index=0,\n",
    "    n_reps=100,\n",
    "    frac_rep=0.2,\n",
    "    seed=42\n",
    ")\n",
    "# `scores[i]` is the importance of feature i, and `feat_order` lists feature indices\n",
    "# from most→least important."
   ]
  },
  {
   "cell_type": "code",
   "execution_count": 7,
   "metadata": {},
   "outputs": [
    {
     "name": "stdout",
     "output_type": "stream",
     "text": [
      "Top 20 genes: ['Robo2', 'Unc5c', 'Kif26b', 'Kcnh7', 'Pcdh7', 'Epha5', 'Smoc1', 'Cdh11', 'Slit2', 'Sox6', 'Tshz2', 'Cacna2d1', 'Ebf1', 'Nrp1', 'Nkain3', 'Kcnq5', 'H19', 'Foxp2', 'Sdk1', 'Frem1']\n"
     ]
    }
   ],
   "source": [
    "# Suppose `scores, sorted_idx = compute_topo_gradient_scores(...)`\n",
    "top20 = tpg.get_topogenes(adata, feat_order, n_genes=20, gene_name_col='gene_name')\n",
    "print(\"Top 20 genes:\", top20)"
   ]
  },
  {
   "cell_type": "code",
   "execution_count": null,
   "metadata": {},
   "outputs": [],
   "source": []
  }
 ],
 "metadata": {
  "kernelspec": {
   "display_name": "totopos",
   "language": "python",
   "name": "python3"
  },
  "language_info": {
   "codemirror_mode": {
    "name": "ipython",
    "version": 3
   },
   "file_extension": ".py",
   "mimetype": "text/x-python",
   "name": "python",
   "nbconvert_exporter": "python",
   "pygments_lexer": "ipython3",
   "version": "3.13.3"
  }
 },
 "nbformat": 4,
 "nbformat_minor": 2
}
